{
 "cells": [
  {
   "cell_type": "code",
   "execution_count": null,
   "outputs": [],
   "source": [
    "import pandas as pd\n",
    "import numpy as np\n",
    "import matplotlib.pyplot as plt\n",
    "from statsmodels.tsa.api import ExponentialSmoothing\n",
    "from sklearn.metrics import mean_squared_error\n",
    "from math import sqrt\n",
    "df = pd.read_csv('../csv/Train_SU63ISt.csv', nrows = 11856)\n",
    "train = df[0:10392]\n",
    "test = df[10932:]\n",
    "\n",
    "df.Timestamp = pd.to_datetime(df.Datetime, format = '%d-%m-%Y %H:%M')\n",
    "df.index = df.Timestamp\n",
    "df = df.resample('D').mean()\n",
    "\n",
    "train.Timestamp = pd.to_datetime(train.Datetime, format = '%d-%m-%Y %H:%M' )\n",
    "train.index = train.Timestamp\n",
    "train = train.resample('D').mean()\n",
    "\n",
    "test.Timestamp = pd.to_datetime(test.Datetime, format = '%d-%m-%Y %H:%M' )\n",
    "test.index = test.Timestamp\n",
    "test = test.resample('D').mean()\n",
    "\n",
    "train.Count.plot(figsize=(15, 8), title= 'daily ridership', fontsize=14)\n",
    "test.Count.plot(figsize=(15, 8), title= 'daily ridership', fontsize=14)\n",
    "plt.show()\n",
    "y_hat_avg = test.copy()\n",
    "fit1 = ExponentialSmoothing(np.asarray(train['Count']) ,seasonal_periods=7 ,trend='add', seasonal='add',).fit()\n",
    "y_hat_avg['Holt_Winter'] = fit1.forecast(len(test))\n",
    "plt.figure(figsize=(16,8))\n",
    "plt.plot( train['Count'], label='Train')\n",
    "plt.plot(test['Count'], label='Test')\n",
    "plt.plot(y_hat_avg['Holt_Winter'], label='Holt_Winter')\n",
    "plt.legend(loc='best')\n",
    "plt.show()\n",
    "rms = sqrt(mean_squared_error(test.Count, y_hat_avg.Holt_Winter))\n",
    "print(rms)\n",
    "\n",
    "\n"
   ],
   "metadata": {
    "collapsed": false,
    "pycharm": {
     "name": "#%%\n"
    }
   }
  }
 ],
 "metadata": {
  "kernelspec": {
   "display_name": "Python 3",
   "language": "python",
   "name": "python3"
  },
  "language_info": {
   "codemirror_mode": {
    "name": "ipython",
    "version": 2
   },
   "file_extension": ".py",
   "mimetype": "text/x-python",
   "name": "python",
   "nbconvert_exporter": "python",
   "pygments_lexer": "ipython2",
   "version": "2.7.6"
  }
 },
 "nbformat": 4,
 "nbformat_minor": 0
}