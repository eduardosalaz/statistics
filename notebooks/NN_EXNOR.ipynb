{
 "cells": [
  {
   "cell_type": "markdown",
   "metadata": {
    "pycharm": {
     "name": "#%% md\n"
    }
   },
   "source": [
    "# Red neuronal que simula el comportamiento de una compuerta lógica EXNOR\n",
    "\n",
    "Para esta primera red neuronal vamos a importar nada mas NumPy, creando la función de pérdida, los perceptrones y las capas desde cero con las herramientas que nos proporciona np. En este caso, vamos a crear una red de perceptrones multicapa con forward propagation, con 3 capas:\n",
    "* La primera es la de entrada (l0)\n",
    "* La segunda l1\n",
    "* La tercera l2\n"
   ]
  },
  {
   "cell_type": "code",
   "execution_count": null,
   "metadata": {},
   "outputs": [],
   "source": [
    "import numpy as np"
   ]
  },
  {
   "cell_type": "markdown",
   "metadata": {},
   "source": [
    "La función de pérdida que usaremos será la función sigmoide:\n",
    "\n",
    "<img src = \"https://render.githubusercontent.com/render/math?math=S(x)%20=%20\\frac{\\mathrm{1}}{\\mathrm{1}%20%2B%20e%20^%20{-x}%20}\">\n",
    "\n",
    "O definida en su derivada para el descenso de gradiente:\n",
    "\n",
    "<img src = \"https://render.githubusercontent.com/render/math?math=S(x)%20=%20x%20*%20(1%20-%20x)\">\n"
   ]
  },
  {
   "cell_type": "code",
   "execution_count": null,
   "metadata": {
    "pycharm": {
     "name": "#%%\n"
    }
   },
   "outputs": [],
   "source": [
    "def nonlin(x,deriv=False):\n",
    "\tif(deriv==True):\n",
    "\t    return x*(1-x)\n",
    "\n",
    "\treturn 1/(1+np.exp(-x))"
   ]
  },
  {
   "cell_type": "markdown",
   "metadata": {},
   "source": [
    "Tenemos este dataset de prueba para tres entradas:"
   ]
  },
  {
   "cell_type": "code",
   "execution_count": null,
   "metadata": {
    "pycharm": {
     "name": "#%%\n"
    }
   },
   "outputs": [],
   "source": [
    "X = np.array([[0,0,1],\n",
    "            [0,1,1],\n",
    "            [1,0,1],\n",
    "            [1,1,1]])"
   ]
  },
  {
   "cell_type": "markdown",
   "metadata": {},
   "source": [
    "Nuestro array Y será el de valores reales que la red usará para ajustar su función de perdida:"
   ]
  },
  {
   "cell_type": "code",
   "execution_count": null,
   "metadata": {
    "pycharm": {
     "name": "#%%\n"
    }
   },
   "outputs": [],
   "source": [
    "Y = np.array([[0],\n",
    "\t      [1],\n",
    "\t      [1],\n",
    "\t      [0]])"
   ]
  },
  {
   "cell_type": "markdown",
   "metadata": {},
   "source": [
    "Vamos a inicializar el random con una seed para que se obtengan los mismos resultados siempre, syn0 y syn1 son las matrices de los pesos sinápticos de nuestra red.\n",
    "\n",
    "syn0 tiene 3 filas y 4 columnas, representando las 3 entradas que tiene y las 4 salidas, por su parte syn1 tiene 4 filas y 1 columna, representando sus 4 entradas y su única salida"
   ]
  },
  {
   "cell_type": "code",
   "execution_count": null,
   "metadata": {
    "pycharm": {
     "name": "#%%\n"
    }
   },
   "outputs": [],
   "source": [
    "np.random.seed(1)\n",
    "\n",
    "syn0 = 2*np.random.random((3,4)) - 1\n",
    "syn1 = 2*np.random.random((4,1)) - 1"
   ]
  },
  {
   "cell_type": "markdown",
   "metadata": {},
   "source": [
    "Aquí empieza la parte del entrenamiento con 60,000 ciclos.\n",
    "\n",
    "Nuestra primera capa (l0) es los valores de entrada, la matriz X. La segunda capa (l1) es el resultado de aplicar el producto punto de la primera capa con los pesos sinápticos syn0 y luego pasar el resultado a través de nuestra función de pérdida, de manera análoga se hace lo mismo en la tercera capa (l2) con los resultados que obtuvimos de la primera capa y los pesos de la segunda.\n",
    "\n",
    "Después de realizar los cálculos, se tiene que estimar el error, haciendo la diferencia de los valores esperados (contenidos en la matriz Y) y los valores obtenidos de la tercera capa. Para poder hacer uso del descenso de gradiente para encontrar el mínimo local de la función, ocupamos obtener el producto punto de la primera derivada de nuestra función de pérdida y la diferencia de los valores. Posteriormente, también calculamos el error de la segunda capa, con el producto punto del error de la tercera capa y la transpuesta de la matriz de los pesos sinápticos de la segunda capa, todo esto usando la derivada de la función sigmoide para poder saber hacia donde ajustar los pesos.\n",
    "\n"
   ]
  },
  {
   "cell_type": "code",
   "execution_count": null,
   "metadata": {
    "pycharm": {
     "name": "#%%\n"
    }
   },
   "outputs": [],
   "source": [
    "for j in range(60000):\n",
    "\n",
    "    l0 = X\n",
    "    l1 = nonlin(np.dot(l0,syn0))\n",
    "    l2 = nonlin(np.dot(l1,syn1))\n",
    "    \n",
    "    l2_error = Y - l2\n",
    "    l2_delta = l2_error*nonlin(l2,deriv=True)\n",
    "\n",
    "    l1_error = l2_delta.dot(syn1.T)\n",
    "    \n",
    "\n",
    "    l1_delta = l1_error * nonlin(l1,deriv=True)\n",
    "\n",
    "    syn1 += l1.T.dot(l2_delta)\n",
    "    syn0 += l0.T.dot(l1_delta)\n",
    "    \n",
    "print(l2)"
   ]
  },
  {
   "cell_type": "markdown",
   "metadata": {},
   "source": [
    "Como podemos apreciar, después de 60,000 ciclos de entrenamiento los valores obtenidos son muy parecidos a los esperados de una compuerta lógica EXNOR, cuya tabla de verdad es la siguiente:\n",
    "\n",
    "<img src = \"data:image/png;base64,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\">\n",
    "\n",
    "\n",
    "Al comparar los resultados podemos quedar satisfechos con el rendimiento de esta red neuronal extremadamente simple pero que sirve para ejemplificar una arquitectura de red, cómo funcionan las neuronas y las capas que las comunican.\n",
    "\n",
    "| Input A | Input B | Input C | Valor Esperado | Valor Obtenido |\n",
    "|---------|---------|---------|----------------|----------------|\n",
    "| 0       | 0       | 1       | 0              | 0.00260572     |\n",
    "| 0       | 1       | 1       | 1              | 0.99672209     |\n",
    "| 1       | 0       | 1       | 1              | 0.99701711     |\n",
    "| 1       | 1       | 1       | 0              | 0.00386759     |"
   ]
  }
 ],
 "metadata": {
  "kernelspec": {
   "display_name": "Python 3",
   "language": "python",
   "name": "python3"
  },
  "language_info": {
   "codemirror_mode": {
    "name": "ipython",
    "version": 3
   },
   "file_extension": ".py",
   "mimetype": "text/x-python",
   "name": "python",
   "nbconvert_exporter": "python",
   "pygments_lexer": "ipython3",
   "version": "3.8.3"
  }
 },
 "nbformat": 4,
 "nbformat_minor": 1
}
