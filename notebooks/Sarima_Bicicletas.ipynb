{
 "cells": [
  {
   "cell_type": "code",
   "execution_count": null,
   "metadata": {
    "collapsed": true,
    "pycharm": {
     "name": "#%%\n"
    }
   },
   "outputs": [],
   "source": [
    "from datetime import datetime\n",
    "import matplotlib.pyplot as plt\n",
    "import pandas as pd\n",
    "from statsmodels.tsa.statespace.sarimax import SARIMAX\n",
    "viajes = pd.read_csv('../csv/2018-10.csv')\n",
    "\n",
    "# concatenar Hora_Retiro y Fecha_Retiro\n",
    "viajes['fecha_hora_retiro'] = viajes.Fecha_Retiro + ' ' + viajes.Hora_Retiro\n",
    "\n",
    "# cambiar de str a datetime\n",
    "viajes['fecha_hora'] = viajes.fecha_hora_retiro \\\n",
    "                             .map(lambda x : datetime.strptime(x, '%d/%m/%Y %H:%M:%S'))\n",
    "\n",
    "# reindexar el dataframe\n",
    "viajes.index = viajes.fecha_hora\n",
    "\n",
    "# limpiar valores de otros años\n",
    "viajes = viajes.loc['2018-10']\n",
    "\n",
    "# resample y agregacion por dia de mes\n",
    "viajes_resample_day = viajes.Bici.resample('H').count()\n",
    "\n",
    "# asignar día de la semana\n",
    "df_resample = pd.concat([viajes_resample_day], axis=1)\n",
    "df_resample['dayofweek'] = df_resample.index.dayofweek # 0 es lunes\n",
    "\n",
    "# lunes a viernes\n",
    "df_mon_to_fri = df_resample[df_resample.dayofweek.isin([0,1,2,3,4])].Bici\n",
    "plt.plot(df_mon_to_fri)\n",
    "plt.show()\n",
    "\n",
    "# definir conjunto de datos\n",
    "x = df_mon_to_fri\n",
    "\n",
    "# instanciar modelo\n",
    "sarima_model = SARIMAX(x, order=(2,0,1), seasonal_order=(2, 1, 0, 24))\n",
    "\n",
    "# ajustar modelo\n",
    "results = sarima_model.fit()\n",
    "\n",
    "# mirar el AIC\n",
    "results.aic\n",
    "\n",
    "# tomar de datos originales dias 29-oct, 30-oct, y 31-oct\n",
    "df_29_31 = df_mon_to_fri.loc['2018-10-29':'2018-10-31']\n",
    "df_29_31.plot()\n",
    "\n",
    "# agregar bandas de confianza\n",
    "pred_1_2_conf = results.get_forecast(steps=24*2).conf_int()\n",
    "pred_1_2_conf.index = pd.date_range(start='11/1/2018', end='11/3/2018', freq='H')[:-1]\n",
    "x = pd.date_range(start='11/1/2018', end='11/3/2018', freq='H')[:-1]\n",
    "y1 = pred_1_2_conf['lower Bici']\n",
    "y2 = pred_1_2_conf['upper Bici']\n",
    "plt.fill_between(x, y1, y2, alpha=0.6)\n",
    "\n",
    "# predecir para 1-nov y 2-nov\n",
    "pred_1_2 = results.get_forecast(steps=24*2).predicted_mean\n",
    "pred_1_2.index = pd.date_range(start='11/1/2018', end='11/3/2018', freq='H')[:-1]\n",
    "pred_1_2.plot()\n",
    "\n",
    "# formato de la grafica final\n",
    "plt.title('Pronóstico de viajes')\n",
    "plt.ylabel('Cantidad de viajes')\n",
    "plt.xlabel('Semana lun-29-oct al vie-02-nov')\n",
    "plt.legend(('Datos originales octubre', 'Pronóstico noviembre'),\n",
    "           loc='lower left')\n",
    "plt.savefig('pronostico.png')\n",
    "plt.show()\n",
    "\n",
    "\n"
   ]
  }
 ],
 "metadata": {
  "kernelspec": {
   "display_name": "Python 3",
   "language": "python",
   "name": "python3"
  },
  "language_info": {
   "codemirror_mode": {
    "name": "ipython",
    "version": 2
   },
   "file_extension": ".py",
   "mimetype": "text/x-python",
   "name": "python",
   "nbconvert_exporter": "python",
   "pygments_lexer": "ipython2",
   "version": "2.7.6"
  }
 },
 "nbformat": 4,
 "nbformat_minor": 0
}